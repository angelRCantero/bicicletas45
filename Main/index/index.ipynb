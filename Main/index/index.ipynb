{
 "cells": [
  {
   "cell_type": "code",
   "execution_count": null,
   "metadata": {},
   "outputs": [],
   "source": [
    "#VarMarcas\n",
    "\n",
    "MARCAS = \"MORENO\", \"SPECIALIZED\", \"SCOTT\", \"TREK\", \"GIANT\", \"CANYON\", \"CANNONDALE\", \"ORBEA\", \"BMC\", \"PINARELLO\", \"BIANCHI\" \n",
    "\n",
    "#VarTipos\n",
    "\n",
    "TIPOS = \"MOPNTAÑA\", \"PASEO\", \"COMPETICION\", \"EXPOSICION\", \"ENTRENAMIENTO\"\n",
    "\n",
    "#VarRodados\n",
    "\n",
    "RODADOS = \"XS\", \"S\", \"M\", \"M2\"\n",
    "\n",
    "#VarColor\n",
    "\n",
    "COLOR = \"ROJO\", \"VERDE\", \"AZUL\", \"AMARILLO\", \"NEGRO\", \"BLANCO\""
   ]
  }
 ],
 "metadata": {
  "language_info": {
   "name": "python"
  },
  "orig_nbformat": 4
 },
 "nbformat": 4,
 "nbformat_minor": 2
}
