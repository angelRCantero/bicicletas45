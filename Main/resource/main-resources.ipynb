{
 "cells": [
  {
   "cell_type": "code",
   "execution_count": null,
   "metadata": {},
   "outputs": [],
   "source": [
    "#########################################\n",
    "# Primer commit main Bici45-prueba\n",
    "# *Subir a Github\n",
    "# ejecutable.exe\n",
    "# release: 26/10/2022\n",
    "# developes: Cantero Angel Rafael\n",
    "#########################################\n",
    "\n",
    "#main-resources\n",
    "\n",
    "marca = \"MORENO\", \"SPECIALIZED\", \"SCOTT\", \"TREK\", \"GIANT\", \"CANYON\", \"CANNONDALE\", \"ORBEA\", \"BMC\", \"PINARELLO\", \"BIANCHI\"\n",
    "\n",
    "tipo = \"MONTAÑA\", \"PASEO\", \"COMPETICION\", \"EXPOSICION\", \"ENTRENAMIENTO\"\n",
    "\n",
    "rodado = \"XS\", \"S\", \"M\", \"M2\"\n",
    "\n",
    "color = \"ROJO\", \"VERDE\", \"AZUL\", \"AMARILLO\", \"NEGRO\", \"BLANCO\"\n",
    "\n",
    "#index\n",
    "\n",
    "marca = input ( \"seleccione marca\")\n",
    "print (\" usted selecciono, \" + marca )\n",
    "\n",
    "tipo = input ( \"seleccione tipo\")\n",
    "print (\" usted selecciono, \" + tipo )\n",
    "\n",
    "rodado = input ( \"seleccione rodado\")\n",
    "print (\" usted selecciono, \" + rodado )\n",
    "\n",
    "color = input ( \"seleccione color\")\n",
    "print (\" usted selecciono, \" + color )"
   ]
  }
 ],
 "metadata": {
  "language_info": {
   "name": "python"
  },
  "orig_nbformat": 4
 },
 "nbformat": 4,
 "nbformat_minor": 2
}
