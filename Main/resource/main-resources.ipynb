{
 "cells": [
  {
   "cell_type": "code",
   "execution_count": null,
   "metadata": {},
   "outputs": [
    {
     "ename": "",
     "evalue": "",
     "output_type": "error",
     "traceback": [
      "\u001b[1;31mNo se pudo iniciar el Kernel. \n",
      "\u001b[1;31mERROR: Could not build wheels for psutil, which is required to install pyproject.toml-based projects. \n",
      "\u001b[1;31mVea el [registro] de Jupyter (command:jupyter.viewOutput) para obtener más detalles."
     ]
    }
   ],
   "source": [
    "#########################################\n",
    "# Primer commit main Bici45-prueba\n",
    "# *Subir a Github\n",
    "# ejecutable.exe\n",
    "# release: 26/10/2022\n",
    "# developeR: Cantero Angel\n",
    "#########################################\n",
    "\n",
    "#main-resources\n",
    "\n",
    "marca = \"MORENO\", \"SPECIALIZED\", \"SCOTT\", \"TREK\", \"GIANT\", \"CANYON\", \"CANNONDALE\", \"ORBEA\", \"BMC\", \"PINARELLO\", \"BIANCHI\"\n",
    "\n",
    "tipo = \"MONTAÑA\", \"PASEO\", \"COMPETICION\", \"EXPOSICION\", \"ENTRENAMIENTO\"\n",
    "\n",
    "rodado = \"XS\", \"S\", \"M\", \"M2\"\n",
    "\n",
    "color = \"ROJO\", \"VERDE\", \"AZUL\", \"AMARILLO\", \"NEGRO\", \"BLANCO\"\n",
    "\n",
    "#index\n",
    "\n",
    "marca = input ( \"seleccione marca\")\n",
    "print (\" usted selecciono, \" + marca )\n",
    "\n",
    "tipo = input ( \"seleccione tipo\")\n",
    "print (\" usted selecciono, \" + tipo )\n",
    "\n",
    "rodado = input ( \"seleccione rodado\")\n",
    "print (\" usted selecciono, \" + rodado )\n",
    "\n",
    "color = input ( \"seleccione color\")\n",
    "print (\" usted selecciono, \" + color )\n",
    "\n",
    "#definimos la forma de importacion\n",
    "\n",
    "import openpyxl\n",
    "\n",
    "#definimos la ubicacion de importacion\n",
    "\n",
    "wb = openpyxl.load_workbook('C:\\DESARROLLO\\EXCEL-BICI45\\ bicis45-excel.xlsx')\n",
    "\n",
    "print(wb.sheetnames)\n",
    "ws = wb.get_sheet_byname( name = '...')\n",
    "\n"
   ]
  }
 ],
 "metadata": {
  "kernelspec": {
   "display_name": "Python 3.11.0 64-bit",
   "language": "python",
   "name": "python3"
  },
  "language_info": {
   "name": "python",
   "version": "3.11.0"
  },
  "orig_nbformat": 4,
  "vscode": {
   "interpreter": {
    "hash": "aad0ccf4eef611394cea06b0973e3b5a14b03b9bf40b5dbae0f6eff9362fe81e"
   }
  }
 },
 "nbformat": 4,
 "nbformat_minor": 2
}
